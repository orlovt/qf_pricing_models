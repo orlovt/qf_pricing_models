{
 "cells": [
  {
   "cell_type": "code",
   "execution_count": 11,
   "metadata": {},
   "outputs": [],
   "source": [
    "import numpy as np \n",
    "import matplotlib.pyplot as plt "
   ]
  },
  {
   "cell_type": "code",
   "execution_count": 20,
   "metadata": {},
   "outputs": [],
   "source": [
    "from tools.data_functions import options_data\n",
    "from tools.greeks import greeks as g"
   ]
  },
  {
   "cell_type": "code",
   "execution_count": null,
   "metadata": {},
   "outputs": [],
   "source": []
  },
  {
   "cell_type": "code",
   "execution_count": 21,
   "metadata": {},
   "outputs": [
    {
     "ename": "NameError",
     "evalue": "name 'd1' is not defined",
     "output_type": "error",
     "traceback": [
      "\u001b[0;31m---------------------------------------------------------------------------\u001b[0m",
      "\u001b[0;31mNameError\u001b[0m                                 Traceback (most recent call last)",
      "Cell \u001b[0;32mIn [21], line 9\u001b[0m\n\u001b[1;32m      5\u001b[0m sigma \u001b[38;5;241m=\u001b[39m \u001b[38;5;241m0.25\u001b[39m\n\u001b[1;32m      7\u001b[0m prices \u001b[38;5;241m=\u001b[39m np\u001b[38;5;241m.\u001b[39marange(\u001b[38;5;241m1\u001b[39m, \u001b[38;5;241m250\u001b[39m,\u001b[38;5;241m1\u001b[39m)\n\u001b[0;32m----> 9\u001b[0m deltas_c \u001b[38;5;241m=\u001b[39m \u001b[43mg\u001b[49m\u001b[38;5;241;43m.\u001b[39;49m\u001b[43mdelta_call\u001b[49m\u001b[43m(\u001b[49m\u001b[43mprices\u001b[49m\u001b[43m,\u001b[49m\u001b[43m \u001b[49m\u001b[43mK\u001b[49m\u001b[43m,\u001b[49m\u001b[43m \u001b[49m\u001b[43mT\u001b[49m\u001b[43m,\u001b[49m\u001b[43m \u001b[49m\u001b[43mr\u001b[49m\u001b[43m,\u001b[49m\u001b[43m \u001b[49m\u001b[43msigma\u001b[49m\u001b[43m)\u001b[49m\n\u001b[1;32m     10\u001b[0m deltas_p \u001b[38;5;241m=\u001b[39m g\u001b[38;5;241m.\u001b[39mdelta_put(prices, K, T, r, sigma)\n\u001b[1;32m     11\u001b[0m deltas_back_c \u001b[38;5;241m=\u001b[39m g\u001b[38;5;241m.\u001b[39mdelta_fdm_call(prices, K, T,r, sigma, ds \u001b[38;5;241m=\u001b[39m \u001b[38;5;241m0.01\u001b[39m,method\u001b[38;5;241m=\u001b[39m\u001b[38;5;124m'\u001b[39m\u001b[38;5;124mbackward\u001b[39m\u001b[38;5;124m'\u001b[39m)\n",
      "File \u001b[0;32m~/Documents/GitHub/quant_stuff/tools/greeks.py:15\u001b[0m, in \u001b[0;36mgreeks.delta_call\u001b[0;34m(S, K, T, r, sigma)\u001b[0m\n\u001b[1;32m     13\u001b[0m \u001b[39mdef\u001b[39;00m \u001b[39mdelta_call\u001b[39m(S, K, T, r, sigma):\n\u001b[1;32m     14\u001b[0m     N \u001b[39m=\u001b[39m norm\u001b[39m.\u001b[39mcdf\n\u001b[0;32m---> 15\u001b[0m     \u001b[39mreturn\u001b[39;00m N(d1(S, K, T, r, sigma))\n",
      "\u001b[0;31mNameError\u001b[0m: name 'd1' is not defined"
     ]
    }
   ],
   "source": [
    "S = 100\n",
    "K = 100\n",
    "T = 1\n",
    "r = 0.00\n",
    "sigma = 0.25\n",
    "\n",
    "prices = np.arange(1, 250,1)\n",
    "\n",
    "deltas_c = g.delta_call(prices, K, T, r, sigma)\n",
    "deltas_p = g.delta_put(prices, K, T, r, sigma)\n",
    "deltas_back_c = g.delta_fdm_call(prices, K, T,r, sigma, ds = 0.01,method='backward')\n",
    "deltas_forward_p = g.delta_fdm_put(prices, K, T,r, sigma, ds = 0.01,method='forward')\n",
    "\n",
    "plt.plot(prices, deltas_c, label='Delta Call')\n",
    "plt.plot(prices, deltas_p, label='Delta Put')\n",
    "plt.xlabel('$S_0$')\n",
    "plt.ylabel('Delta')\n",
    "plt.title('Stock Price Effect on Delta for Calls/Puts' )\n",
    "plt.axvline(K, color='black', linestyle='dashed', linewidth=2,label=\"Strike\")\n",
    "plt.legend()"
   ]
  }
 ],
 "metadata": {
  "kernelspec": {
   "display_name": "Python 3.8.5 ('base')",
   "language": "python",
   "name": "python3"
  },
  "language_info": {
   "codemirror_mode": {
    "name": "ipython",
    "version": 3
   },
   "file_extension": ".py",
   "mimetype": "text/x-python",
   "name": "python",
   "nbconvert_exporter": "python",
   "pygments_lexer": "ipython3",
   "version": "3.8.5"
  },
  "orig_nbformat": 4,
  "vscode": {
   "interpreter": {
    "hash": "299788cdfb4ccb82fb4a8515b6fdc57e1f1020095d820d2e6ce895ac7909e7df"
   }
  }
 },
 "nbformat": 4,
 "nbformat_minor": 2
}
