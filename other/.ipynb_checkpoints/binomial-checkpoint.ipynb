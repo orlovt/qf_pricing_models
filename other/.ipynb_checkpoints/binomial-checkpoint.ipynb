{
 "cells": [
  {
   "cell_type": "code",
   "execution_count": null,
   "metadata": {},
   "outputs": [],
   "source": [
    "#https://www.codearmo.com/python-tutorial/options-trading-binomial-pricing-model"
   ]
  },
  {
   "cell_type": "code",
   "execution_count": 31,
   "metadata": {},
   "outputs": [],
   "source": [
    "import math \n",
    "import numpy as np"
   ]
  },
  {
   "cell_type": "markdown",
   "metadata": {},
   "source": [
    " Combinatorics formula ${n \\choose k} = \\frac{n!}{k!(n-k)!}$, where 'n' - number of tryies and 'k' is a value"
   ]
  },
  {
   "cell_type": "code",
   "execution_count": 5,
   "metadata": {},
   "outputs": [],
   "source": [
    "def comb(n, k):\n",
    "    return math.factorial(n) / ( math.factorial(k) * math.factorial(n-k))"
   ]
  },
  {
   "cell_type": "code",
   "execution_count": 15,
   "metadata": {},
   "outputs": [
    {
     "name": "stdout",
     "output_type": "stream",
     "text": [
      "0 heads 1.0 combinations possible\n",
      "1 heads 4.0 combinations possible\n",
      "2 heads 6.0 combinations possible\n",
      "3 heads 4.0 combinations possible\n",
      "4 heads 1.0 combinations possible\n"
     ]
    }
   ],
   "source": [
    "for i in range(5):\n",
    "    print(i, \"heads\", comb(4, i), 'combinations possible')"
   ]
  },
  {
   "cell_type": "markdown",
   "metadata": {},
   "source": [
    "### Probability and payoff\n",
    " Probability of an outcome $= {n \\choose k} p^k(1-p)^n-k$\n",
    " So the payoff is $\\sum_{k=0}^n {n \\choose k} p^k(1-p)^{n-k} k$.  For the game where we get 1 USD for each 'heads' out of 4 tryies the fair value equails to the expected payoff."
   ]
  },
  {
   "cell_type": "code",
   "execution_count": 29,
   "metadata": {},
   "outputs": [
    {
     "name": "stdout",
     "output_type": "stream",
     "text": [
      "expected payoff:  2.0\n"
     ]
    }
   ],
   "source": [
    "fair_value = 0 \n",
    "n= 4 # number of coin flips\n",
    "for k in range(n+1):\n",
    "    fair_value += comb(n,k)*0.5**k*0.5**(n-k) * k\n",
    "    \n",
    "print(\"expected payoff: \", fair_value)"
   ]
  },
  {
   "cell_type": "code",
   "execution_count": 28,
   "metadata": {},
   "outputs": [
    {
     "name": "stdout",
     "output_type": "stream",
     "text": [
      "1.26953125\n"
     ]
    }
   ],
   "source": [
    "fair_value = 0 \n",
    "n= 10 # number of coin flips\n",
    "for k in range(7,n+1): #after 6 heads we are getting paid \n",
    "    fair_value += comb(n,k)*0.5**k*0.5**(n-k) * k\n",
    "    \n",
    "print(fair_value)"
   ]
  },
  {
   "cell_type": "markdown",
   "metadata": {},
   "source": [
    "### 1. Theoretical example of binary option pricing\n",
    "\n",
    "In this example we make an assumption that the historically observed standart deviation is constant for the underlying asset price. Hence std = $\\sigma$ .\n",
    "Lets denote $u$ and $d$ which represent the upward and downwards moement probabilities of the price of underlying asset. $S_u, S_d$ represent the prices of the stock it if moves up or down by one standart deviation. Also $p$ is the risk free probabily of the stock moving up $(1 + r_{interest})$\n",
    "\n",
    "$$ p = \\frac{r -d}{u - d}$$\n",
    "\n",
    "In order to determine the $u$ and $d$ with the given assumpions we must evaluate them as following:\n",
    "* $u = e^{\\sigma\\sqrt{\\Delta t}}$ \n",
    "* $d = e^{-\\sigma\\sqrt{\\Delta t}}$\n",
    "* $r = e^{\\sigma r \\sqrt{\\Delta t}}$\n",
    "\n",
    "where $\\sigma$ is the standart deviation of the stock for a period of time $t$. \n",
    "\n",
    "So the value for $p = \\frac{e^{\\sigma r \\sqrt{\\Delta t}} -  e^{-\\sigma\\sqrt{\\Delta t}}}{e^{\\sigma\\sqrt{\\Delta t}} -  e^{-\\sigma\\sqrt{\\Delta t}}}$\n",
    "\n",
    "### 2. Probabilities: \n",
    " $$ p = {N \\choose k}p^k(1-p)^{N-k} = {N \\choose k}(\\frac{e^{r\\Delta t - d}}{u - d})^k (1- \\frac{e^{r\\Delta t - d}}{u - d})^{n-k}$$ \n",
    " \n",
    "### 3. Value of the call\n",
    " \n",
    " Value of the call would be represented as the probaility weighted expectation of the $S_{1}- K$\n",
    " \n",
    " $$C_k = \\sum_k^N {N \\choose k}p^k(1-p)^{N-k} max(S_0 u^k d^{N-k} - K, 0)$$\n",
    " \n",
    "\n",
    "* where ${N \\choose k}p^k(1-p)^{N-k}$ is the probability of an outcome\n",
    "* $max(S_0 u^k d^{N-k} - K, 0)$ is the value of the call (if $S_1 \\leq K$ the value is 0 and if $S_1 > K$ the value is $S_1 - K$)\n",
    "* $S_1 = S_0 u^k d^{N-k}$ Which accounts for up or down movement of the price\n",
    "\n",
    "\n",
    "The computed result would be representing: expected payoff from the game = its fair price = call value \n"
   ]
  },
  {
   "cell_type": "code",
   "execution_count": 71,
   "metadata": {},
   "outputs": [
    {
     "name": "stdout",
     "output_type": "stream",
     "text": [
      "The fair call value is: 10.287301121702995\n"
     ]
    }
   ],
   "source": [
    "def binary_option_price(S0, N, T, sigma, K, r, type_ = \"call\"):\n",
    "    dt = T/N\n",
    "    u = np.exp( sigma * np.sqrt(dt) ) #compute u, d, p from the equasion  \n",
    "    d =  np.exp( -sigma * np.sqrt(dt) )\n",
    "    p = ( np.exp(r*dt) - d) / (u - d)\n",
    "\n",
    "    cv = 0 #call value\n",
    "    for k in reversed(range(N+1)):\n",
    "        ST = S0 * u**k * d ** (N-k)\n",
    "        prob = comb(N, k) * p ** k * (1-p)**(N-k)\n",
    "        #print(f\"S_1 value: {round(ST,2)} \\t S_1 - K: {round(max(ST-K,0),2)}\\t Prob :{round(prob,2)}\")\n",
    "        if type_ == \"call\":\n",
    "            cv += max(ST - K,0) * prob\n",
    "        elif type == \"put\":\n",
    "            cv += max(K- ST,0) * prob\n",
    "        else:\n",
    "            raise ValueError(\"type_ must be 'call' or 'put'\" )\n",
    "    return cv * np.exp(-r*T)\n",
    "        \n",
    "print(f\"The fair call value is: {binary_option_price(100, 4, 0.5, 0.4, 105, 0.05)}\")"
   ]
  },
  {
   "cell_type": "markdown",
   "metadata": {},
   "source": [
    "Lets see if $C_k = \\sum_k^N {N \\choose k}p^k(1-p)^{N-k} max(S_0 u^k d^{N-k} - K, 0)$ converges when $N \\to \\inf$"
   ]
  },
  {
   "cell_type": "code",
   "execution_count": 79,
   "metadata": {},
   "outputs": [
    {
     "name": "stdout",
     "output_type": "stream",
     "text": [
      "N 1: \t Call Value: 12.798596665812862\n",
      "N 101: \t Call Value: 10.240780990502742\n",
      "N 201: \t Call Value: 10.225873398289371\n",
      "N 301: \t Call Value: 10.208462221938994\n",
      "N 401: \t Call Value: 10.220450704587046\n",
      "N 501: \t Call Value: 10.223075391787864\n",
      "N 601: \t Call Value: 10.221906418461561\n",
      "N 701: \t Call Value: 10.219168465339328\n",
      "N 801: \t Call Value: 10.215793957453602\n",
      "N 901: \t Call Value: 10.216656878435852\n",
      "N 1001: \t Call Value: 10.218925064081205\n"
     ]
    }
   ],
   "source": [
    "for N in range(1, 1002, 100):\n",
    "    print(f\"N {N}: \\t Call Value: {binary_option_price(100, N, 0.5, 0.4, 105, 0.05)}\")"
   ]
  },
  {
   "cell_type": "code",
   "execution_count": null,
   "metadata": {},
   "outputs": [],
   "source": [
    "\n"
   ]
  }
 ],
 "metadata": {
  "kernelspec": {
   "display_name": "Python 3.8.5 ('base')",
   "language": "python",
   "name": "python3"
  },
  "language_info": {
   "codemirror_mode": {
    "name": "ipython",
    "version": 3
   },
   "file_extension": ".py",
   "mimetype": "text/x-python",
   "name": "python",
   "nbconvert_exporter": "python",
   "pygments_lexer": "ipython3",
   "version": "3.8.5"
  },
  "vscode": {
   "interpreter": {
    "hash": "299788cdfb4ccb82fb4a8515b6fdc57e1f1020095d820d2e6ce895ac7909e7df"
   }
  }
 },
 "nbformat": 4,
 "nbformat_minor": 4
}
